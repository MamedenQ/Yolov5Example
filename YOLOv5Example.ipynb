{
  "nbformat": 4,
  "nbformat_minor": 0,
  "metadata": {
    "colab": {
      "name": "YOLOv5Example.ipynb",
      "provenance": [],
      "machine_shape": "hm",
      "collapsed_sections": [
        "LIcotRzXJvxG",
        "S0dr7qxkVUXb",
        "zPPezlPnJ_rg",
        "Q5FiXHLeJ58N",
        "q4gUfJpaObaZ",
        "lLOSNbFCOmAN",
        "5rMRF9pSsxOa",
        "L6mlP7-R3_Yn",
        "qp7z5CvXKhit",
        "YMTFc4m3TXE0",
        "FFqYS_5zYB0P",
        "ZGczBBq9Ko5t",
        "wFyQUSKHgT9z",
        "jmDPhvEepY--",
        "7GJEdfmdy7gy",
        "tnaFP7f8yWXe",
        "r-_ZQSDtzFRa",
        "dRduGLoSyax2",
        "Y7H1Rv30ynNd",
        "4oDPuN7c6Rif",
        "ZP4PwTHTuvVl",
        "8ePUVWMlSZM5",
        "dH58gdMSMuLd",
        "1xCaU2fIPIEA",
        "dJD78F6ILNAt",
        "zpGlz8DYosT8",
        "Av-VBwwSokz0"
      ],
      "mount_file_id": "138MTvOzqRZ0raJSBV6s61Tw4izM5nC2j",
      "authorship_tag": "ABX9TyNUgwtdIUBhQ+QQlI7TpI4g",
      "include_colab_link": true
    },
    "kernelspec": {
      "name": "python3",
      "display_name": "Python 3"
    },
    "language_info": {
      "name": "python"
    },
    "accelerator": "GPU",
    "gpuClass": "standard"
  },
  "cells": [
    {
      "cell_type": "markdown",
      "metadata": {
        "id": "view-in-github",
        "colab_type": "text"
      },
      "source": [
        "<a href=\"https://colab.research.google.com/github/MamedenQ/Yolov5Example/blob/main/YOLOv5Example.ipynb\" target=\"_parent\"><img src=\"https://colab.research.google.com/assets/colab-badge.svg\" alt=\"Open In Colab\"/></a>"
      ]
    },
    {
      "cell_type": "markdown",
      "source": [
        "# 事前準備"
      ],
      "metadata": {
        "id": "L6mlP7-R3_Yn"
      }
    },
    {
      "cell_type": "markdown",
      "source": [
        "YOLOv5のインストール"
      ],
      "metadata": {
        "id": "ahsqjHDOiDeo"
      }
    },
    {
      "cell_type": "code",
      "execution_count": null,
      "metadata": {
        "id": "TvDSszQnVQ2q"
      },
      "outputs": [],
      "source": [
        "!git clone https://github.com/ultralytics/yolov5\n",
        "\n",
        "%cd yolov5\n",
        "!pip install -r /content/yolov5/requirements.txt"
      ]
    },
    {
      "cell_type": "markdown",
      "source": [
        "データセットの準備\n",
        "\n",
        "YOLOv5で読み込むことが可能なデータセットを準備願います。"
      ],
      "metadata": {
        "id": "2GztZyf5iFI6"
      }
    },
    {
      "cell_type": "code",
      "source": [
        "# データセットのコピー処理等"
      ],
      "metadata": {
        "id": "KssxHt8-icBB"
      },
      "execution_count": null,
      "outputs": []
    },
    {
      "cell_type": "markdown",
      "source": [
        "# 学習"
      ],
      "metadata": {
        "id": "w3yMOudtL3tR"
      }
    },
    {
      "cell_type": "code",
      "source": [
        "!python train.py --batch 16 --epochs 50 --data train_data/data.yaml --weights yolov5s.pt --optimizer AdamW --cache --freeze 10"
      ],
      "metadata": {
        "id": "04UGTZpluGGx"
      },
      "execution_count": null,
      "outputs": []
    },
    {
      "cell_type": "markdown",
      "source": [
        "# 物体検出"
      ],
      "metadata": {
        "id": "z7EwYuw9wSCD"
      }
    },
    {
      "cell_type": "markdown",
      "source": [
        "## コマンドから検出実行"
      ],
      "metadata": {
        "id": "jqC3vZ9JJLLX"
      }
    },
    {
      "cell_type": "code",
      "source": [
        "!python detect.py --source input.jpg --conf 0.5 --weights runs/train/exp/weights/best.pt"
      ],
      "metadata": {
        "id": "jbnuQ9ZXMZL4"
      },
      "execution_count": null,
      "outputs": []
    },
    {
      "cell_type": "markdown",
      "source": [
        "## ソースコードから検出実行"
      ],
      "metadata": {
        "id": "IiAEVLWDNfCY"
      }
    },
    {
      "cell_type": "code",
      "source": [
        "import math\n",
        "\n",
        "import torch\n",
        "import cv2\n",
        "\n",
        "# モデルの読み込み\n",
        "model = torch.hub.load(\".\", \"custom\", path=f\"runs/train/exp/weights/best.pt\", source=\"local\")\n",
        "\n",
        "# 入力画像の読み込み\n",
        "img = cv2.imread(\"input.jpg\")\n",
        "\n",
        "# 検出の閾値設定\n",
        "model.conf = 0.5\n",
        "\n",
        "# 物体検出\n",
        "result = model(img)\n",
        "\n",
        "# バウンディングボックスを取得し画像をクリップ\n",
        "for idx, row in enumerate(result.pandas().xyxyn[0].itertuples()):\n",
        "    height, width = img.shape[:2]\n",
        "\n",
        "    xmin = math.floor(width * row.xmin)\n",
        "    xmax = math.floor(width * row.xmax)\n",
        "    ymin = math.floor(height * row.ymin)\n",
        "    ymax = math.floor(height * row.ymax)\n",
        "\n",
        "    cripped_img = img[ymin:ymax, xmin:xmax]\n",
        "\n",
        "    cv2.imwrite(f\"crip_{idx}.jpg\", cripped_img)"
      ],
      "metadata": {
        "id": "p_ETuTR2Nd7Y"
      },
      "execution_count": null,
      "outputs": []
    }
  ]
}